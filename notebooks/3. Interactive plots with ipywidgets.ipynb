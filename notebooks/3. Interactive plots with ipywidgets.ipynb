{
 "cells": [
  {
   "cell_type": "markdown",
   "metadata": {},
   "source": [
    "# 3. Interactive plotting of 4D data\n",
    "\n",
    "Subsurface Hackathon 2017, Paris.\n",
    "\n",
    "*Joseph Barraud and Martin Bentley*\n",
    "\n",
    "---\n",
    "This notebook describes the work that was conducted by our team during the [Subsurface Hackathon in Paris](https://agilescientific.com/paris/) (10-11 June 2017). \n",
    "\n",
    "This is the third step of a short study on groundwater levels in the Netherlands. Please see the [first notebook](.\\1. Levels data loading.ipynb) for an introduction about the data."
   ]
  },
  {
   "cell_type": "code",
   "execution_count": 1,
   "metadata": {
    "collapsed": true
   },
   "outputs": [],
   "source": [
    "import os\n",
    "import numpy as np\n",
    "from scipy import interpolate\n",
    "import matplotlib as mpl\n",
    "import matplotlib.pyplot as plt\n",
    "import matplotlib.dates as mdates\n",
    "import pandas as pd\n",
    "import datetime\n",
    "% matplotlib inline\n",
    "\n",
    "# import ipywidgets\n",
    "from ipywidgets import *"
   ]
  },
  {
   "cell_type": "markdown",
   "metadata": {},
   "source": [
    "### Options\n",
    "\n",
    "The images generated in this notebook have a transparent background. Unfortunately, when you try and copy those images and paste them into a program like PowerPoint, you will get a black background instead.\n",
    "\n",
    "The following change fixes this problem."
   ]
  },
  {
   "cell_type": "code",
   "execution_count": 2,
   "metadata": {
    "collapsed": true
   },
   "outputs": [],
   "source": [
    "mpl.rcParams['figure.facecolor'] = 'white'"
   ]
  },
  {
   "cell_type": "code",
   "execution_count": 3,
   "metadata": {
    "collapsed": true
   },
   "outputs": [],
   "source": [
    "# pandas options\n",
    "pd.options.display.max_rows = 6"
   ]
  },
  {
   "cell_type": "markdown",
   "metadata": {},
   "source": [
    "## Data loading\n",
    "\n",
    "The data were previously imported from csv files into a pandas dataframe (see [first notebook](.\\1. Levels data loading.ipynb))."
   ]
  },
  {
   "cell_type": "code",
   "execution_count": 4,
   "metadata": {
    "collapsed": true
   },
   "outputs": [],
   "source": [
    "all_depths = pd.read_pickle(r'..\\data\\Groundwater-Levels\\all_depths_v1.pkl.gz')"
   ]
  },
  {
   "cell_type": "markdown",
   "metadata": {},
   "source": [
    "### Data preparation\n",
    "\n",
    "Let's redo quickly what was described in the [previous notebook](.\\2. Create surfaces from data points), i.e. resample the data in time in order to get aggregated data for each month."
   ]
  },
  {
   "cell_type": "code",
   "execution_count": 5,
   "metadata": {
    "collapsed": true
   },
   "outputs": [],
   "source": [
    "all_depths1 = all_depths.loc[(slice(None),1),:].reset_index(1, drop=True)\n",
    "all_depths1_permonth = all_depths1.reset_index(0).groupby('well').resample('MS').mean()"
   ]
  },
  {
   "cell_type": "markdown",
   "metadata": {},
   "source": [
    "## Interactive plotting\n",
    "\n",
    "We have 4D data: three spatial dimensions and time. So one way to explore this dataset is to get a map of the water depth for any date in our database. We can make this plot interactive by having a cursor that would control time. This is quite easy to do with a library called [ipywidgets](https://ipywidgets.readthedocs.io/en/latest/).\n",
    "\n",
    "All we need is a function that will create the surface and make the plot. For that, we can simply copy we have done in the previous notebook. Then we use [interact](https://ipywidgets.readthedocs.io/en/latest/examples/Using%20Interact.html) to link the function with a couple of widgets."
   ]
  },
  {
   "cell_type": "code",
   "execution_count": 6,
   "metadata": {
    "collapsed": true
   },
   "outputs": [],
   "source": [
    "# first define the dimensions of the grid for the depth surface\n",
    "x_min = all_depths.x.min()\n",
    "x_max = all_depths.x.max()\n",
    "y_min = all_depths.y.min()\n",
    "y_max = all_depths.y.max()\n",
    "\n",
    "cellsize = 100\n",
    "vector_x = np.arange(x_min-2*cellsize, x_max+3*cellsize, cellsize)\n",
    "vector_y = np.arange(y_min-2*cellsize, y_max+3*cellsize, cellsize)\n",
    "grid_x, grid_y = np.meshgrid(vector_x,vector_y)\n",
    "extent1 = (vector_x.min(),vector_x.max(), vector_y.min(), vector_y.max())"
   ]
  },
  {
   "cell_type": "code",
   "execution_count": 7,
   "metadata": {
    "collapsed": true
   },
   "outputs": [],
   "source": [
    "def plot_surface(date='1996-01-01', method='nearest', add_wells=True):\n",
    "    # selection and gridding\n",
    "    dfa = all_depths1_permonth.loc[(slice(None),date),:].dropna()\n",
    "    points = dfa[['x','y']]\n",
    "    values = dfa.depth\n",
    "    grid1 = interpolate.griddata(points, values, (grid_x, np.flipud(grid_y)), method=method)\n",
    "    # plotting\n",
    "    fig,ax = plt.subplots(figsize=(16,12))\n",
    "    plt.imshow(grid1,extent=extent1,origin='upper', cmap='coolwarm_r',\n",
    "               vmin=all_depths1.depth.quantile(0.04) ,\n",
    "               vmax=all_depths1.depth.quantile(0.96))  # fix the depth range to fix the colormap\n",
    "    if add_wells: \n",
    "        dfa.plot.scatter(x='x', y='y', c='none', s=50,edgecolors='k', ax=ax, colorbar=False)\n",
    "    # \n",
    "    plt.colorbar(shrink=0.5)\n",
    "    ax.set_xlabel('')\n",
    "    ax.set_ylabel('')\n",
    "    ax.set_title(date)\n",
    "    plt.show() # this is necessary to ensure the same plot is updated as we change the date with the cursor"
   ]
  },
  {
   "cell_type": "code",
   "execution_count": 8,
   "metadata": {},
   "outputs": [
    {
     "data": {
      "application/vnd.jupyter.widget-view+json": {
       "model_id": "343729116dc54880a006139274ac314a"
      }
     },
     "metadata": {},
     "output_type": "display_data"
    },
    {
     "data": {
      "text/plain": [
       "<function __main__.plot_surface>"
      ]
     },
     "execution_count": 8,
     "metadata": {},
     "output_type": "execute_result"
    }
   ],
   "source": [
    "# create a list of dates (every first day of the month from 1955 to 2015)\n",
    "dates = [datetime.date(y,m,1) for y in range(1955,2016) for m in range(1,13) ]\n",
    "# create a widget with a slider for the data\n",
    "dateWidget = SelectionSlider(\n",
    "                options=dates,\n",
    "                description='Date')\n",
    "# make the slider wider\n",
    "dateWidget.layout.width = '500px'\n",
    "# make a couple of radio buttons for the method selection\n",
    "methodWidget = RadioButtons(\n",
    "            options=['nearest', 'linear'], value='nearest',\n",
    "            description='Interpolation:')\n",
    "# run widget with the interact function (note how the function automatically creates a tick box for the add_wells parameter)\n",
    "interact(plot_surface, date=dateWidget, method=methodWidget)"
   ]
  },
  {
   "cell_type": "markdown",
   "metadata": {},
   "source": [
    "Finally, this last example combines a dropdown menu with a plot of water depth vs time. So we have a simple way to examine the data for each well in our database."
   ]
  },
  {
   "cell_type": "code",
   "execution_count": 9,
   "metadata": {
    "collapsed": true
   },
   "outputs": [],
   "source": [
    "def plot_depth_vs_time(well='B24F0005'):\n",
    "    # selection \n",
    "    dfa = all_depths1_permonth.loc[well]\n",
    "    \n",
    "    # plot\n",
    "    fig,ax = plt.subplots(figsize=(12,6))\n",
    "    ax.plot(dfa.depth)\n",
    "    ax.set_xlabel('')\n",
    "    ax.set_ylabel('mean depth (cm w.r.t. NAP)')\n",
    "    ax.set_xlim(pd.to_datetime('1950'), pd.to_datetime('2017'))\n",
    "    ax.set_ylim(-750,750)\n",
    "    ax.xaxis.set_major_locator(mdates.YearLocator(10))\n",
    "    ax.grid()\n",
    "    plt.show()"
   ]
  },
  {
   "cell_type": "code",
   "execution_count": 10,
   "metadata": {},
   "outputs": [
    {
     "data": {
      "application/vnd.jupyter.widget-view+json": {
       "model_id": "f65d6038cb5d4a90aa0accfe603ef276"
      }
     },
     "metadata": {},
     "output_type": "display_data"
    },
    {
     "data": {
      "text/plain": [
       "<function __main__.plot_depth_vs_time>"
      ]
     },
     "execution_count": 10,
     "metadata": {},
     "output_type": "execute_result"
    }
   ],
   "source": [
    "# create a list of all the wells\n",
    "well_list = all_depths1.index.get_level_values(0).unique().tolist()\n",
    "# create a widget with a dropdown menu\n",
    "wellWidget = Dropdown(options=well_list, value=well_list[0],\n",
    "                description='Well ID')\n",
    "\n",
    "# run widget with the interact function\n",
    "interact(plot_depth_vs_time, well=wellWidget)"
   ]
  }
 ],
 "metadata": {
  "kernelspec": {
   "display_name": "Python [conda root]",
   "language": "python",
   "name": "conda-root-py"
  },
  "language_info": {
   "codemirror_mode": {
    "name": "ipython",
    "version": 3
   },
   "file_extension": ".py",
   "mimetype": "text/x-python",
   "name": "python",
   "nbconvert_exporter": "python",
   "pygments_lexer": "ipython3",
   "version": "3.5.3"
  }
 },
 "nbformat": 4,
 "nbformat_minor": 2
}
